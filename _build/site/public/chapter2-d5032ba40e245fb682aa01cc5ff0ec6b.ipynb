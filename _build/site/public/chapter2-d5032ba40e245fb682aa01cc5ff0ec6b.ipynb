{
 "cells": [
  {
   "cell_type": "code",
   "execution_count": null,
   "id": "efb5856e",
   "metadata": {
    "vscode": {
     "languageId": "plaintext"
    }
   },
   "outputs": [],
   "source": [
    "import matplotlib.pyplot as plt\n",
    "\n",
    "ranking = [1, 1, 1, 0, 1, 0, 0, 1, 0, 0]\n",
    "x = [0, 0, 0, 300, 300, 300, 600, 600, 600, 900, 1200]\n",
    "y = [0, 200, 400, 400, 600, 800, 800, 1000, 1200, 1200, 1200]\n",
    "\n",
    "h = 1200\n",
    "w = 1200\n",
    "grid_step = 120\n",
    "\n",
    "fig, ax = plt.subplots()\n",
    "ax.set_xlim(0, w)\n",
    "ax.set_ylim(0, h)\n",
    "\n",
    "ax.set_xticks([0, 120, 240, 360, 480, 600, 720, 840, 960, 1080, 1200])\n",
    "ax.set_xticklabels(['', '', '', '0.25', '', '', '0.50', '', '', '0.75', '1.00'])\n",
    "\n",
    "ax.set_yticks([0, 120, 240, 360, 480, 600, 720, 840, 960, 1080, 1200])\n",
    "ax.set_yticklabels(['', '0.17', '0.33', '', '0.50', '0.67', '', '0.83', '1.00', '', ''])\n",
    "\n",
    "for gx in range(grid_step, w + 1, grid_step):\n",
    "    ax.axvline(x=gx, color='gray', linestyle='dotted')\n",
    "for gy in range(grid_step, h + 1, grid_step):\n",
    "    ax.axhline(y=gy, color='gray', linestyle='dotted')\n",
    "\n",
    "ax.plot(x, y, linestyle='dashed', marker='o')\n",
    "\n",
    "ax.plot([x[0], x[2]], [y[0], y[2]], color='red', linewidth=4)\n",
    "ax.plot([x[2], x[8]], [y[2], y[8]], color='red', linewidth=2)\n",
    "ax.plot([x[8], x[10]], [y[8], y[10]], color='red', linewidth=4)\n",
    "\n",
    "ax.set_xlabel(\"False positive rate\")\n",
    "ax.set_ylabel(\"True positive rate\")\n",
    "plt.show()\n"
   ]
  }
 ],
 "metadata": {
  "language_info": {
   "name": "python"
  }
 },
 "nbformat": 4,
 "nbformat_minor": 5
}
