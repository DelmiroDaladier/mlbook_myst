{
 "cells": [
  {
   "cell_type": "markdown",
   "id": "51740b10",
   "metadata": {},
   "source": [
    "# Chapter 10"
   ]
  },
  {
   "cell_type": "markdown",
   "id": "3ba71a50",
   "metadata": {},
   "source": []
  },
  {
   "cell_type": "markdown",
   "id": "ffa49cb8",
   "metadata": {},
   "source": [
    "## 10.3 Thresholding "
   ]
  },
  {
   "cell_type": "markdown",
   "id": "0e933352",
   "metadata": {},
   "source": [
    "## 10.4 RP"
   ]
  },
  {
   "cell_type": "markdown",
   "id": "50ae7619",
   "metadata": {},
   "source": []
  },
  {
   "cell_type": "markdown",
   "id": "73bbe1d6",
   "metadata": {},
   "source": [
    "## 10.5 Logcal"
   ]
  },
  {
   "cell_type": "code",
   "execution_count": 1,
   "id": "59058eb9",
   "metadata": {},
   "outputs": [
    {
     "data": {
      "image/png": "[encoded data removed]",
      "text/plain": [
       "<Figure size 576x576 with 1 Axes>"
      ]
     },
     "metadata": {
      "needs_background": "light"
     },
     "output_type": "display_data"
    }
   ],
   "source": [
    "import numpy as np\n",
    "import matplotlib.pyplot as plt\n",
    "\n",
    "def linclass(mupos=None, sigpos=None, rhopos=None, muneg=None, signeg=None, rhoneg=None):\n",
    "\n",
    "    if mupos is None:\n",
    "        mupos = np.array([1, 1])\n",
    "        sigpos = np.array([0.4, 0.4])\n",
    "        rhopos = 0.2\n",
    "        muneg = np.array([-1, -1])\n",
    "        signeg = np.array([0.4, 0.4])\n",
    "        rhoneg = -0.2\n",
    "\n",
    "\n",
    "    covpos = rhopos * np.sqrt(sigpos[0] * sigpos[1])\n",
    "    sigmapos = np.array([[sigpos[0], covpos], [covpos, sigpos[1]]])\n",
    "    \n",
    "    covneg = rhoneg * np.sqrt(signeg[0] * signeg[1])\n",
    "    sigmaneg = np.array([[signeg[0], covneg], [covneg, signeg[1]]])\n",
    "\n",
    "    Npos = 100\n",
    "    Nneg = 50\n",
    "\n",
    "    pos = np.random.multivariate_normal(mupos, sigmapos, Npos)\n",
    "    neg = np.random.multivariate_normal(muneg, sigmaneg, Nneg)\n",
    "\n",
    "    plt.figure(figsize=(8, 8))\n",
    "    plt.xlim([-3, 3])\n",
    "    plt.ylim([-3, 3])\n",
    "    plt.scatter(pos[:, 0], pos[:, 1], color='k', marker='+')\n",
    "    plt.scatter(neg[:, 0], neg[:, 1], color='k', marker='.')\n",
    "    plt.gca().set_aspect('equal', adjustable='box')\n",
    "\n",
    "    pos1 = np.hstack([np.ones((Npos, 1)), pos])\n",
    "    neg1 = np.hstack([np.ones((Nneg, 1)), neg])\n",
    "\n",
    "    emupos1 = np.mean(pos1, axis=0)\n",
    "    emuneg1 = np.mean(neg1, axis=0)\n",
    "    \n",
    "    plt.plot(emupos1[1], emupos1[2], 'ro')\n",
    "    plt.plot(emuneg1[1], emuneg1[2], 'ro')\n",
    "\n",
    "    plt.plot([emupos1[1], emuneg1[1]], [emupos1[2], emuneg1[2]], 'r:', label='Separation Line')\n",
    "\n",
    "    blc = emupos1 - emuneg1\n",
    "    x_vals = np.array([-2, 2])\n",
    "    y_vals = (-blc[0] + x_vals * 2 * blc[1]) / blc[2]\n",
    "    plt.plot(x_vals, y_vals, 'r-', label='Decision Boundary')\n",
    "\n",
    "    plt.legend()\n",
    "    plt.show()\n",
    "\n",
    "linclass()\n"
   ]
  },
  {
   "cell_type": "markdown",
   "id": "7b09c777",
   "metadata": {},
   "source": [
    "## Roccal "
   ]
  },
  {
   "cell_type": "markdown",
   "id": "f4623948",
   "metadata": {},
   "source": []
  }
 ],
 "metadata": {
  "kernelspec": {
   "display_name": "clmr",
   "language": "python",
   "name": "clmr"
  },
  "language_info": {
   "codemirror_mode": {
    "name": "ipython",
    "version": 3
   },
   "file_extension": ".py",
   "mimetype": "text/x-python",
   "name": "python",
   "nbconvert_exporter": "python",
   "pygments_lexer": "ipython3",
   "version": "3.7.12"
  }
 },
 "nbformat": 4,
 "nbformat_minor": 5
}
